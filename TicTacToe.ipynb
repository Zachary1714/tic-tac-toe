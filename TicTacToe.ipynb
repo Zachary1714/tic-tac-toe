{
 "cells": [
  {
   "cell_type": "code",
   "execution_count": 1,
   "id": "c9e8a97e-71a3-44ae-9184-80b36946dc16",
   "metadata": {},
   "outputs": [
    {
     "name": "stdout",
     "output_type": "stream",
     "text": [
      "\n",
      "Here is the current board:\n",
      "\n",
      "   A1   |   B1   |   C1   \n",
      "--------------------------\n",
      "   A2   |   B2   |   C2   \n",
      "--------------------------\n",
      "   A3   |   B3   |   C3   \n",
      "\n"
     ]
    },
    {
     "name": "stdin",
     "output_type": "stream",
     "text": [
      "Player 1 (X's), choose a position:  A1\n"
     ]
    },
    {
     "name": "stdout",
     "output_type": "stream",
     "text": [
      "You have selected:  A1\n",
      "\n",
      "Here is the current board:\n",
      "\n",
      "   X    |   B1   |   C1   \n",
      "--------------------------\n",
      "   A2   |   B2   |   C2   \n",
      "--------------------------\n",
      "   A3   |   B3   |   C3   \n",
      "\n"
     ]
    },
    {
     "name": "stdin",
     "output_type": "stream",
     "text": [
      "Player 2 (O's), choose a position:  B2\n"
     ]
    },
    {
     "name": "stdout",
     "output_type": "stream",
     "text": [
      "You have selected:  B2\n",
      "\n",
      "Here is the current board:\n",
      "\n",
      "   X    |   B1   |   C1   \n",
      "--------------------------\n",
      "   A2   |   O    |   C2   \n",
      "--------------------------\n",
      "   A3   |   B3   |   C3   \n",
      "\n"
     ]
    },
    {
     "name": "stdin",
     "output_type": "stream",
     "text": [
      "Player 1 (X's), choose a position:  C1\n"
     ]
    },
    {
     "name": "stdout",
     "output_type": "stream",
     "text": [
      "You have selected:  C1\n",
      "\n",
      "Here is the current board:\n",
      "\n",
      "   X    |   B1   |   X    \n",
      "--------------------------\n",
      "   A2   |   O    |   C2   \n",
      "--------------------------\n",
      "   A3   |   B3   |   C3   \n",
      "\n"
     ]
    },
    {
     "name": "stdin",
     "output_type": "stream",
     "text": [
      "Player 2 (O's), choose a position:  B1\n"
     ]
    },
    {
     "name": "stdout",
     "output_type": "stream",
     "text": [
      "You have selected:  B1\n",
      "\n",
      "Here is the current board:\n",
      "\n",
      "   X    |   O    |   X    \n",
      "--------------------------\n",
      "   A2   |   O    |   C2   \n",
      "--------------------------\n",
      "   A3   |   B3   |   C3   \n",
      "\n"
     ]
    },
    {
     "name": "stdin",
     "output_type": "stream",
     "text": [
      "Player 1 (X's), choose a position:  B3\n"
     ]
    },
    {
     "name": "stdout",
     "output_type": "stream",
     "text": [
      "You have selected:  B3\n",
      "\n",
      "Here is the current board:\n",
      "\n",
      "   X    |   O    |   X    \n",
      "--------------------------\n",
      "   A2   |   O    |   C2   \n",
      "--------------------------\n",
      "   A3   |   X    |   C3   \n",
      "\n"
     ]
    },
    {
     "name": "stdin",
     "output_type": "stream",
     "text": [
      "Player 2 (O's), choose a position:  A2\n"
     ]
    },
    {
     "name": "stdout",
     "output_type": "stream",
     "text": [
      "You have selected:  A2\n",
      "\n",
      "Here is the current board:\n",
      "\n",
      "   X    |   O    |   X    \n",
      "--------------------------\n",
      "   O    |   O    |   C2   \n",
      "--------------------------\n",
      "   A3   |   X    |   C3   \n",
      "\n"
     ]
    },
    {
     "name": "stdin",
     "output_type": "stream",
     "text": [
      "Player 1 (X's), choose a position:  C2\n"
     ]
    },
    {
     "name": "stdout",
     "output_type": "stream",
     "text": [
      "You have selected:  C2\n",
      "\n",
      "Here is the current board:\n",
      "\n",
      "   X    |   O    |   X    \n",
      "--------------------------\n",
      "   O    |   O    |   X    \n",
      "--------------------------\n",
      "   A3   |   X    |   C3   \n",
      "\n"
     ]
    },
    {
     "name": "stdin",
     "output_type": "stream",
     "text": [
      "Player 2 (O's), choose a position:  A3\n"
     ]
    },
    {
     "name": "stdout",
     "output_type": "stream",
     "text": [
      "You have selected:  A3\n",
      "\n",
      "Here is the current board:\n",
      "\n",
      "   X    |   O    |   X    \n",
      "--------------------------\n",
      "   O    |   O    |   X    \n",
      "--------------------------\n",
      "   O    |   X    |   C3   \n",
      "\n"
     ]
    },
    {
     "name": "stdin",
     "output_type": "stream",
     "text": [
      "Player 1 (X's), choose a position:  C3\n"
     ]
    },
    {
     "name": "stdout",
     "output_type": "stream",
     "text": [
      "You have selected:  C3\n",
      "The winner is P1!\n",
      "The final board was:\n",
      "\n",
      "   X    |   O    |   X    \n",
      "--------------------------\n",
      "   O    |   O    |   X    \n",
      "--------------------------\n",
      "   O    |   X    |   X    \n",
      "\n"
     ]
    },
    {
     "name": "stdin",
     "output_type": "stream",
     "text": [
      "Would you like to play again? If so, input \"Yes\": a\n"
     ]
    },
    {
     "name": "stdout",
     "output_type": "stream",
     "text": [
      "Thanks for playing!\n",
      "You played  1 game.\n",
      "Player 1 won 1 time, Player 2 won 0 times, and there were  0 ties.\n"
     ]
    }
   ],
   "source": [
    "#The cells\n",
    "locations = [\"A1\",\"B1\",\"C1\",\"A2\",\"B2\",\"C2\",\"A3\",\"B3\",\"C3\"]\n",
    "\n",
    "#2 potential win combinations that will be checked\n",
    "winner1 = [\"A1\",\"B2\",\"C3\"]\n",
    "winner2 = [\"A3\",\"B2\",\"C1\"]\n",
    "\n",
    "#Set values within our loop that will be used\n",
    "i=0 #Player 1 turn index\n",
    "j=0 #Player 2 turn index\n",
    "P1 = [\"0\",\"0\",\"0\",\"0\",\"0\"]           #Player 1 inputs\n",
    "P1_letters = [\"0\",\"0\",\"0\",\"0\",\"0\"]   #First position (Row) of Player 1 inputs\n",
    "P1_numbers = [\"0\",\"0\",\"0\",\"0\",\"0\"]   #Second position (Column) of Player 1 inputs\n",
    "P1_winner = False                    #Whether Player 1 has 3 identical letter or numbers\n",
    "P1_win = 0                           #Player 1 win total\n",
    "\n",
    "P2 = [\"0\",\"0\",\"0\",\"0\"]               #Player 2 inputs\n",
    "P2_letters = [\"0\",\"0\",\"0\",\"0\"]       #First position (Row) of Player 2 inputs\n",
    "P2_numbers = [\"0\",\"0\",\"0\",\"0\"]       #Second position (Column) of Player 2 inputs\n",
    "P2_winner = False                    #Whether Player 2 has 3 identical letter or numbers\n",
    "P2_win = 0                           #Player 2 win total\n",
    "\n",
    "draw=0                               #Number of ties\n",
    "x = slice(1)                         #To pull letters\n",
    "y = slice(1,2)                       #To pull numbers\n",
    "over = False                         #Whether the gameplay has concluded\n",
    "\n",
    "#Loop while the game is not over\n",
    "while over != True:\n",
    "    \n",
    "    #Print the board so players can see options\n",
    "    print(\"\\nHere is the current board:\\n\\n  \",locations[0],\"  |  \", locations[1],\"  |  \",locations[2],\"  \\n--------------------------\\n  \"\n",
    "      ,locations[3],\"  |  \", locations[4],\"  |  \",locations[5],\"  \\n--------------------------\\n  \"\n",
    "      ,locations[6],\"  |  \", locations[7],\"  |  \",locations[8],\"  \\n\")\n",
    "    \n",
    "    #Conditional if player 1 and 2 have taken the same amount of turns. If not it is player 2's turn\n",
    "    if i == j:\n",
    "        #User input\n",
    "        position = input( \"Player 1 (X's), choose a position: \" )\n",
    "    else:\n",
    "        position = input( \"Player 2 (O's), choose a position: \" )\n",
    "        \n",
    "    #Loop to require user input until a useable input is inputted then their selection    \n",
    "    while position not in locations or position in P1 or position in P2:\n",
    "        position = input( \"Error!\\nPlease properly choose a valid unoccupied position: \")\n",
    "    print(\"You have selected: \", position )\n",
    "    \n",
    "    #Same conditional\n",
    "    if i == j:\n",
    "        #Set the input to P1's list of plays\n",
    "        P1[i] = position\n",
    "        \n",
    "        #Set an X to the input location for the board\n",
    "        if P1[i] == \"A1\":\n",
    "            locations[0] = \"X \"\n",
    "        elif P1[i] == \"B1\":\n",
    "            locations[1] = \"X \"\n",
    "        elif P1[i] == \"C1\":\n",
    "            locations[2] = \"X \"\n",
    "        elif P1[i] == \"A2\":\n",
    "            locations[3] = \"X \"\n",
    "        elif P1[i] == \"B2\":\n",
    "            locations[4] = \"X \"\n",
    "        elif P1[i] == \"C2\":\n",
    "            locations[5] = \"X \"\n",
    "        elif P1[i] == \"A3\":\n",
    "            locations[6] = \"X \"\n",
    "        elif P1[i] == \"B3\":\n",
    "            locations[7] = \"X \"\n",
    "        elif P1[i] == \"C3\":\n",
    "            locations[8] = \"X \"\n",
    "        \n",
    "        \n",
    "        #Split up the letter/number to evaluate winning combinations\n",
    "        letter = position[0]\n",
    "        number = position[1]\n",
    "        P1_letters[i] = letter\n",
    "        P1_numbers[i] = number\n",
    "        \n",
    "        #Count the inputted letters/numbers. If this player acheives 3, they have won\n",
    "        As = P1_letters.count(\"A\")\n",
    "        Bs = P1_letters.count(\"B\")\n",
    "        Cs = P1_letters.count(\"C\")\n",
    "        \n",
    "        Ones = P1_numbers.count(\"1\")\n",
    "        Twos = P1_numbers.count(\"2\")\n",
    "        Threes = P1_numbers.count(\"3\")\n",
    "        test = max(As, Bs, Cs, Ones, Twos, Threes)\n",
    "             \n",
    "        if test == 3:\n",
    "            P1_winner = True\n",
    "        #Increase the index of turns player 1 has used    \n",
    "        i = i + 1   \n",
    "                \n",
    "    else:\n",
    "        #Set the input to P2's list of plays\n",
    "        P2[j] = position\n",
    "        \n",
    "        if P2[j] == \"A1\":\n",
    "            locations[0] = \"O \"\n",
    "        elif P2[j] == \"B1\":\n",
    "            locations[1] = \"O \"\n",
    "        elif P2[j] == \"C1\":\n",
    "            locations[2] = \"O \"\n",
    "        elif P2[j] == \"A2\":\n",
    "            locations[3] = \"O \"\n",
    "        elif P2[j] == \"B2\":\n",
    "            locations[4] = \"O \"\n",
    "        elif P2[j] == \"C2\":\n",
    "            locations[5] = \"O \"\n",
    "        elif P2[j] == \"A3\":\n",
    "            locations[6] = \"O \"\n",
    "        elif P2[j] == \"B3\":\n",
    "            locations[7] = \"O \"\n",
    "        elif P2[j] == \"C3\":\n",
    "            locations[8] = \"O \"\n",
    "        \n",
    "        #Split up the letter/number to evaluate winning combinations\n",
    "        letter = position[0]\n",
    "        number = position[1]\n",
    "        P2_letters[j] = letter\n",
    "        P2_numbers[j] = number\n",
    "        \n",
    "        #Count the inputted letters/numbers. If this player acheives 3, they have won\n",
    "        As = P2_letters.count(\"A\")\n",
    "        Bs = P2_letters.count(\"B\")\n",
    "        Cs = P2_letters.count(\"C\")\n",
    "        \n",
    "        Ones = P2_numbers.count(\"1\")\n",
    "        Twos = P2_numbers.count(\"2\")\n",
    "        Threes = P2_numbers.count(\"3\")\n",
    "        test = max(As, Bs, Cs, Ones, Twos, Threes)\n",
    "                \n",
    "        if test == 3:\n",
    "            P2_winner = True\n",
    "        #Increase the index of turns player 2 has used    \n",
    "        j = j + 1   \n",
    "    \n",
    "    #If-else-if conditional testing if player 1 has won (via diagonal/win condition)\n",
    "    if all(item in P1 for item in winner1) or all(item in P1 for item in winner2) or P1_winner==True:\n",
    "        #Show the final board again\n",
    "        print(\"The winner is P1!\\nThe final board was:\\n\\n  \",locations[0],\"  |  \", locations[1],\"  |  \",locations[2],\"  \\n--------------------------\\n  \"\n",
    "              ,locations[3],\"  |  \", locations[4],\"  |  \",locations[5],\"  \\n--------------------------\\n  \"\n",
    "              ,locations[6],\"  |  \", locations[7],\"  |  \",locations[8],\"  \\n\")\n",
    "        P1_win = P1_win+1\n",
    "        \n",
    "        #Play again option\n",
    "        again = input(\"Would you like to play again? If so, input \\\"Yes\\\":\")\n",
    "        if again == \"Yes\":\n",
    "            #Output the game number & win-loss-tie totals\n",
    "            print(\"\\nWelcome back! This is game number\", (P1_win+P2_win+draw+1),\n",
    "                   \".\\nPlayer 1 has won\", P1_win,\"time\", end=\"\")\n",
    "            #If statements to verify plurality in output\n",
    "            if P1_win!=1:\n",
    "                print(\"s\", end=\"\")\n",
    "            print(\", Player 2 has won\", P2_win,\"time\", end=\"\")\n",
    "            if P2_win!=1:\n",
    "                print(\"s\", end=\"\")\n",
    "            print(\", and there \", end=\"\")\n",
    "            if draw!=1:\n",
    "                print(\"have been\", draw, \"ties.\\n\", end=\"\")\n",
    "            else:\n",
    "                print(\"has been\", draw, \"tie.\\n\", end=\"\")\n",
    "            \n",
    "            ####Reset the board\n",
    "            #The cells\n",
    "            locations = [\"A1\",\"B1\",\"C1\",\"A2\",\"B2\",\"C2\",\"A3\",\"B3\",\"C3\"]\n",
    "            #Set values within our loop that will be used\n",
    "            i=0\n",
    "            j=0\n",
    "            P1 = [\"0\",\"0\",\"0\",\"0\",\"0\"]\n",
    "            P1_letters = [\"0\",\"0\",\"0\",\"0\",\"0\"]\n",
    "            P1_numbers = [\"0\",\"0\",\"0\",\"0\",\"0\"]\n",
    "            P1_winner = False\n",
    "            P2 = [\"0\",\"0\",\"0\",\"0\"]\n",
    "            P2_letters = [\"0\",\"0\",\"0\",\"0\"]\n",
    "            P2_numbers = [\"0\",\"0\",\"0\",\"0\"]\n",
    "            P2_winner = False\n",
    "            ####\n",
    "            \n",
    "        else:\n",
    "            #Output the games played & win-loss-tie total\n",
    "            print(\"Thanks for playing!\\nYou played \", (P1_win+P2_win+draw),\"game\",end=\"\")\n",
    "            #If statements to verify plurality in output\n",
    "            if (P1_win+P2_win+draw)!=1:\n",
    "                print(\"s\",end=\"\")\n",
    "            print(\".\\nPlayer 1 won\", P1_win,\"time\", end=\"\")\n",
    "            if P1_win!=1:\n",
    "                print(\"s\", end=\"\")\n",
    "            print(\", Player 2 won\", P2_win,\"time\", end=\"\")\n",
    "            if P2_win!=1:\n",
    "                print(\"s\", end =\"\")\n",
    "            print(\", and there w\", end=\"\")\n",
    "            if draw!=1:\n",
    "                print(\"ere \", draw, \"ties.\\n\", end=\"\")\n",
    "            else:\n",
    "                print(\"as \", draw, \"tie.\\n\", end=\"\")\n",
    "            #Set over value to true to close out the loop\n",
    "            over = True\n",
    "       \n",
    "    #If-else-if conditional testing if player 2 has won (via diagonal/win condition)\n",
    "    elif all(item in P2 for item in winner1) or all(item in P2 for item in winner2) or P2_winner==True:\n",
    "        #Show the final board again\n",
    "        print(\"The winner is P2!\\nThe final board was:\\n\\n  \",locations[0],\"  |  \", locations[1],\"  |  \",locations[2],\"  \\n--------------------------\\n  \"\n",
    "              ,locations[3],\"  |  \", locations[4],\"  |  \",locations[5],\"  \\n--------------------------\\n  \"\n",
    "              ,locations[6],\"  |  \", locations[7],\"  |  \",locations[8],\"  \\n\")\n",
    "        P2_win = P2_win+1\n",
    "         #Play again option\n",
    "        again = input(\"Would you like to play again? If so, input \\\"Yes\\\":\")\n",
    "        if again == \"Yes\":\n",
    "            #Output the game number & win-loss-tie totals\n",
    "            print(\"\\nWelcome back! This is game number\", (P1_win+P2_win+draw+1),\n",
    "                   \".\\nPlayer 1 has won\", P1_win,\"time\", end=\"\")\n",
    "            #If statements to verify plurality in output\n",
    "            if P1_win!=1:\n",
    "                print(\"s\", end=\"\")\n",
    "            print(\", Player 2 has won\", P2_win,\"time\", end=\"\")\n",
    "            if P2_win!=1:\n",
    "                print(\"s\", end =\"\")\n",
    "            print(\", and there \", end=\"\")\n",
    "            if draw!=1:\n",
    "                print(\"have been\", draw, \"ties.\\n\", end=\"\")\n",
    "            else:\n",
    "                print(\"has been\", draw, \"tie.\\n\", end=\"\")\n",
    "            \n",
    "            ####Reset the board\n",
    "            #The cells\n",
    "            locations = [\"A1\",\"B1\",\"C1\",\"A2\",\"B2\",\"C2\",\"A3\",\"B3\",\"C3\"]\n",
    "            #Set values within our loop that will be used\n",
    "            i=0\n",
    "            j=0\n",
    "            P1 = [\"0\",\"0\",\"0\",\"0\",\"0\"]\n",
    "            P1_letters = [\"0\",\"0\",\"0\",\"0\",\"0\"]\n",
    "            P1_numbers = [\"0\",\"0\",\"0\",\"0\",\"0\"]\n",
    "            P1_winner = False\n",
    "            P2 = [\"0\",\"0\",\"0\",\"0\"]\n",
    "            P2_letters = [\"0\",\"0\",\"0\",\"0\"]\n",
    "            P2_numbers = [\"0\",\"0\",\"0\",\"0\"]\n",
    "            P2_winner = False\n",
    "            ####\n",
    "            \n",
    "        else:\n",
    "            #Output the games played & win-loss-tie total\n",
    "            print(\"Thanks for playing!\\nYou played\", (P1_win+P2_win+draw),\"game\",end=\"\")\n",
    "            #If statements to verify plurality in output\n",
    "            if (P1_win+P2_win+draw)!=1:\n",
    "                print(\"s\",end=\"\")\n",
    "            print(\".\\nPlayer 1 won\", P1_win,\"time\", end=\"\")\n",
    "            if P1_win!=1:\n",
    "                print(\"s\", end=\"\")\n",
    "            print(\", Player 2 won\", P2_win,\"time\", end=\"\")\n",
    "            if P2_win!=1:\n",
    "                print(\"s\", end=\"\")\n",
    "            print(\", and there w\", end=\"\")\n",
    "            if draw!=1:\n",
    "                print(\"ere\", draw, \"ties.\\n\", end=\"\")\n",
    "            else:\n",
    "                print(\"as\", draw, \"tie.\\n\", end=\"\")\n",
    "            #Set over value to true to close out the loop\n",
    "            over = True\n",
    "    #If-else-if conditional testing if 9 turns have concluded and the game has ended in a draw                  \n",
    "    elif i == 5:\n",
    "        #Show the final board again\n",
    "        print(\"The game ended in a draw!\\nThe final board was:\\n\\n  \",locations[0],\"  |  \", locations[1],\"  |  \",locations[2],\"  \\n--------------------------\\n  \"\n",
    "              ,locations[3],\"  |  \", locations[4],\"  |  \",locations[5],\"  \\n--------------------------\\n  \"\n",
    "              ,locations[6],\"  |  \", locations[7],\"  |  \",locations[8],\"  \\n\")\n",
    "        draw = draw+1\n",
    "        \n",
    "         #Play again option\n",
    "        again = input(\"Would you like to play again? If so, input \\\"Yes\\\":\")\n",
    "        if again == \"Yes\" | again == \"yes\" | again == \"Y\" | again == \"y\":\n",
    "            #Output the game number & win-loss-tie totals\n",
    "            print(\"\\nWelcome back! This is game number\", (P1_win+P2_win+draw+1),\n",
    "                   \".\\nPlayer 1 has won\", P1_win,\"time\", end=\"\")\n",
    "            #If statements to verify plurality in output\n",
    "            if P1_win!=1:\n",
    "                print(\"s\", end=\"\")\n",
    "            print(\", Player 2 has won\", P2_win,\"time\", end=\"\")\n",
    "            if P2_win!=1:\n",
    "                print(\"s\", end=\"\")\n",
    "            print(\", and there \", end=\"\")\n",
    "            if draw!=1:\n",
    "                print(\"have been\", draw, \"ties.\\n\", end=\"\")\n",
    "            else:\n",
    "                print(\"has been\", draw, \"tie.\\n\", end=\"\")\n",
    "            \n",
    "            ####Reset the board\n",
    "            #The cells\n",
    "            locations = [\"A1\",\"B1\",\"C1\",\"A2\",\"B2\",\"C2\",\"A3\",\"B3\",\"C3\"]\n",
    "            #Set values within our loop that will be used\n",
    "            i=0\n",
    "            j=0\n",
    "            P1 = [\"0\",\"0\",\"0\",\"0\",\"0\"]\n",
    "            P1_letters = [\"0\",\"0\",\"0\",\"0\",\"0\"]\n",
    "            P1_numbers = [\"0\",\"0\",\"0\",\"0\",\"0\"]\n",
    "            P1_winner = False\n",
    "            P2 = [\"0\",\"0\",\"0\",\"0\"]\n",
    "            P2_letters = [\"0\",\"0\",\"0\",\"0\"]\n",
    "            P2_numbers = [\"0\",\"0\",\"0\",\"0\"]\n",
    "            P2_winner = False\n",
    "            ####\n",
    "            \n",
    "        else:\n",
    "            #Output the games played & win-loss-tie total\n",
    "            print(\"Thanks for playing!\\nYou played\", (P1_win+P2_win+draw),\"game\", end=\"\")\n",
    "            #If statements to verify plurality in output\n",
    "            if (P1_win+P2_win+draw)!=1:\n",
    "                print(\"s\", end=\"\")\n",
    "            print(\".\\nPlayer 1 won\", P1_win,\"time\", end=\"\")\n",
    "            if P1_win!=1:\n",
    "                print(\"s\", end=\"\")\n",
    "            print(\", Player 2 won\", P2_win,\"time\", end=\"\")\n",
    "            if P2_win!=1:\n",
    "                print(\"s\", end=\"\")\n",
    "            print(\", and there w\", end=\"\")\n",
    "            if draw!=1:\n",
    "                print(\"ere\", draw, \"ties.\\n\", end=\"\")\n",
    "            else:\n",
    "                print(\"as\", draw, \"tie.\\n\", end=\"\")\n",
    "            #Set over value to true to close out the loop\n",
    "            over = True"
   ]
  },
  {
   "cell_type": "markdown",
   "id": "95657c7d-8e62-4d9f-b316-cccfce1f14b3",
   "metadata": {},
   "source": [
    "%run tictactoe.py"
   ]
  },
  {
   "cell_type": "code",
   "execution_count": 1,
   "id": "ab9ebde0-0f7a-41a0-9861-2e80e1988cac",
   "metadata": {},
   "outputs": [
    {
     "name": "stdout",
     "output_type": "stream",
     "text": [
      "\n",
      "Here is the current board:\n",
      "\n",
      "   A1   |   B1   |   C1   \n",
      "--------------------------\n",
      "   A2   |   B2   |   C2   \n",
      "--------------------------\n",
      "   A3   |   B3   |   C3   \n",
      "\n"
     ]
    },
    {
     "name": "stdin",
     "output_type": "stream",
     "text": [
      "Player 1 (X's), choose a position:  A1\n"
     ]
    },
    {
     "name": "stdout",
     "output_type": "stream",
     "text": [
      "You have selected:  A1\n",
      "\n",
      "Here is the current board:\n",
      "\n",
      "   X    |   B1   |   C1   \n",
      "--------------------------\n",
      "   A2   |   B2   |   C2   \n",
      "--------------------------\n",
      "   A3   |   B3   |   C3   \n",
      "\n"
     ]
    },
    {
     "name": "stdin",
     "output_type": "stream",
     "text": [
      "Player 2 (O's), choose a position:  B2\n"
     ]
    },
    {
     "name": "stdout",
     "output_type": "stream",
     "text": [
      "You have selected:  B2\n",
      "\n",
      "Here is the current board:\n",
      "\n",
      "   X    |   B1   |   C1   \n",
      "--------------------------\n",
      "   A2   |   O    |   C2   \n",
      "--------------------------\n",
      "   A3   |   B3   |   C3   \n",
      "\n"
     ]
    },
    {
     "name": "stdin",
     "output_type": "stream",
     "text": [
      "Player 1 (X's), choose a position:  C3\n"
     ]
    },
    {
     "name": "stdout",
     "output_type": "stream",
     "text": [
      "You have selected:  C3\n",
      "\n",
      "Here is the current board:\n",
      "\n",
      "   X    |   B1   |   C1   \n",
      "--------------------------\n",
      "   A2   |   O    |   C2   \n",
      "--------------------------\n",
      "   A3   |   B3   |   X    \n",
      "\n"
     ]
    },
    {
     "name": "stdin",
     "output_type": "stream",
     "text": [
      "Player 2 (O's), choose a position:  A2\n"
     ]
    },
    {
     "name": "stdout",
     "output_type": "stream",
     "text": [
      "You have selected:  A2\n",
      "\n",
      "Here is the current board:\n",
      "\n",
      "   X    |   B1   |   C1   \n",
      "--------------------------\n",
      "   O    |   O    |   C2   \n",
      "--------------------------\n",
      "   A3   |   B3   |   X    \n",
      "\n"
     ]
    },
    {
     "name": "stdin",
     "output_type": "stream",
     "text": [
      "Player 1 (X's), choose a position:  B3\n"
     ]
    },
    {
     "name": "stdout",
     "output_type": "stream",
     "text": [
      "You have selected:  B3\n",
      "\n",
      "Here is the current board:\n",
      "\n",
      "   X    |   B1   |   C1   \n",
      "--------------------------\n",
      "   O    |   O    |   C2   \n",
      "--------------------------\n",
      "   A3   |   X    |   X    \n",
      "\n"
     ]
    },
    {
     "name": "stdin",
     "output_type": "stream",
     "text": [
      "Player 2 (O's), choose a position:  B1\n"
     ]
    },
    {
     "name": "stdout",
     "output_type": "stream",
     "text": [
      "You have selected:  B1\n",
      "\n",
      "Here is the current board:\n",
      "\n",
      "   X    |   O    |   C1   \n",
      "--------------------------\n",
      "   O    |   O    |   C2   \n",
      "--------------------------\n",
      "   A3   |   X    |   X    \n",
      "\n"
     ]
    },
    {
     "name": "stdin",
     "output_type": "stream",
     "text": [
      "Player 1 (X's), choose a position:  C2\n"
     ]
    },
    {
     "name": "stdout",
     "output_type": "stream",
     "text": [
      "You have selected:  C2\n",
      "\n",
      "Here is the current board:\n",
      "\n",
      "   X    |   O    |   C1   \n",
      "--------------------------\n",
      "   O    |   O    |   X    \n",
      "--------------------------\n",
      "   A3   |   X    |   X    \n",
      "\n"
     ]
    },
    {
     "name": "stdin",
     "output_type": "stream",
     "text": [
      "Player 2 (O's), choose a position:  C1\n"
     ]
    },
    {
     "name": "stdout",
     "output_type": "stream",
     "text": [
      "You have selected:  C1\n",
      "\n",
      "Here is the current board:\n",
      "\n",
      "   X    |   O    |   O    \n",
      "--------------------------\n",
      "   O    |   O    |   X    \n",
      "--------------------------\n",
      "   A3   |   X    |   X    \n",
      "\n"
     ]
    },
    {
     "name": "stdin",
     "output_type": "stream",
     "text": [
      "Player 1 (X's), choose a position:  A3\n"
     ]
    },
    {
     "name": "stdout",
     "output_type": "stream",
     "text": [
      "You have selected:  A3\n",
      "\n",
      "The winner is Player 1(X's)!\n",
      "The final board was:\n",
      "\n",
      "   X    |   O    |   O    \n",
      "--------------------------\n",
      "   O    |   O    |   X    \n",
      "--------------------------\n",
      "   X    |   X    |   X    \n",
      "\n"
     ]
    }
   ],
   "source": [
    "%run tictactoe.py"
   ]
  },
  {
   "cell_type": "code",
   "execution_count": null,
   "id": "40465531-be04-4ad4-a31a-dc79b8f87f3e",
   "metadata": {},
   "outputs": [],
   "source": []
  }
 ],
 "metadata": {
  "kernelspec": {
   "display_name": "Python 3 (ipykernel)",
   "language": "python",
   "name": "python3"
  },
  "language_info": {
   "codemirror_mode": {
    "name": "ipython",
    "version": 3
   },
   "file_extension": ".py",
   "mimetype": "text/x-python",
   "name": "python",
   "nbconvert_exporter": "python",
   "pygments_lexer": "ipython3",
   "version": "3.9.12"
  }
 },
 "nbformat": 4,
 "nbformat_minor": 5
}
